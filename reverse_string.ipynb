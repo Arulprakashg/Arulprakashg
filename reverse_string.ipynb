{
  "nbformat": 4,
  "nbformat_minor": 0,
  "metadata": {
    "colab": {
      "provenance": [],
      "authorship_tag": "ABX9TyOz7HOssr1lmg+U0JOKlYDI",
      "include_colab_link": true
    },
    "kernelspec": {
      "name": "python3",
      "display_name": "Python 3"
    },
    "language_info": {
      "name": "python"
    }
  },
  "cells": [
    {
      "cell_type": "markdown",
      "metadata": {
        "id": "view-in-github",
        "colab_type": "text"
      },
      "source": [
        "<a href=\"https://colab.research.google.com/github/Arulprakashg/Arulprakashg/blob/main/reverse_string.ipynb\" target=\"_parent\"><img src=\"https://colab.research.google.com/assets/colab-badge.svg\" alt=\"Open In Colab\"/></a>"
      ]
    },
    {
      "cell_type": "code",
      "execution_count": 1,
      "metadata": {
        "colab": {
          "base_uri": "https://localhost:8080/"
        },
        "id": "8h_5wa7_yeZB",
        "outputId": "bad9cf42-5ad9-46a3-ad55-af4fd3129b4d"
      },
      "outputs": [
        {
          "output_type": "stream",
          "name": "stdout",
          "text": [
            "Enter a string: adc123\n",
            "Reversed string:: 321cda\n"
          ]
        }
      ],
      "source": [
        "def reverse_string(string):\n",
        "\n",
        "  reversed_string=string[::-1]\n",
        "\n",
        "  return reversed_string\n",
        "\n",
        "input_string=input(\"Enter a string: \")\n",
        "\n",
        "#input_String=\"1234abcd\"\n",
        "\n",
        "reversed_string=reverse_string(input_string)\n",
        "\n",
        "print(\"Reversed string::\",reversed_string)"
      ]
    }
  ]
}