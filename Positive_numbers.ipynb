{
  "nbformat": 4,
  "nbformat_minor": 0,
  "metadata": {
    "colab": {
      "provenance": [],
      "authorship_tag": "ABX9TyN6uGQ8PRpsvz5nH0Pu7QhN",
      "include_colab_link": true
    },
    "kernelspec": {
      "name": "python3",
      "display_name": "Python 3"
    },
    "language_info": {
      "name": "python"
    }
  },
  "cells": [
    {
      "cell_type": "markdown",
      "metadata": {
        "id": "view-in-github",
        "colab_type": "text"
      },
      "source": [
        "<a href=\"https://colab.research.google.com/github/Arulprakashg/Arulprakashg/blob/main/Positive_numbers.ipynb\" target=\"_parent\"><img src=\"https://colab.research.google.com/assets/colab-badge.svg\" alt=\"Open In Colab\"/></a>"
      ]
    },
    {
      "cell_type": "code",
      "execution_count": null,
      "metadata": {
        "id": "-RXkk5hR1q-h"
      },
      "outputs": [],
      "source": [
        "number_nested = [[1, -1, 2], [0, -5, 3, 5, -2], [1, 2, 1, 0, -2, -3]]\n",
        "\n",
        "positive_numbers = []\n",
        "\n",
        "for sublist in number_nested:\n",
        "    positive_numbers.extend([num for num in sublist if num > 0])\n",
        "\n",
        "print(positive_numbers)"
      ]
    }
  ]
}