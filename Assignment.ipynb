{
  "nbformat": 4,
  "nbformat_minor": 0,
  "metadata": {
    "colab": {
      "provenance": [],
      "authorship_tag": "ABX9TyO3Qh3cnbnMXS0qwBQdaI7k",
      "include_colab_link": true
    },
    "kernelspec": {
      "name": "python3",
      "display_name": "Python 3"
    },
    "language_info": {
      "name": "python"
    }
  },
  "cells": [
    {
      "cell_type": "markdown",
      "metadata": {
        "id": "view-in-github",
        "colab_type": "text"
      },
      "source": [
        "<a href=\"https://colab.research.google.com/github/Arulprakashg/Arulprakashg/blob/main/Assignment.ipynb\" target=\"_parent\"><img src=\"https://colab.research.google.com/assets/colab-badge.svg\" alt=\"Open In Colab\"/></a>"
      ]
    },
    {
      "cell_type": "code",
      "execution_count": 1,
      "metadata": {
        "colab": {
          "base_uri": "https://localhost:8080/"
        },
        "id": "7V7S4p970SKI",
        "outputId": "b06cf78d-0dd2-4781-976c-50a897149066"
      },
      "outputs": [
        {
          "output_type": "stream",
          "name": "stdout",
          "text": [
            "['phone.jpg', 'view.jpg', 'bear,jpg', 'ball.png']\n",
            "<class 'list'>\n",
            "['phone.jpg', 'view.jpg', 'bear,jpg']\n"
          ]
        }
      ],
      "source": [
        "L1=['view.jpg','bear,jpg','ball.png']\n",
        "\n",
        "L1.insert(0,'phone.jpg')\n",
        "\n",
        "print(L1)\n",
        "\n",
        "L1.pop(3)\n",
        "\n",
        "print(type(L1))\n",
        "\n",
        "print(L1)"
      ]
    },
    {
      "cell_type": "code",
      "source": [
        "my_list = [1,1,1,1,2,2,3,3,3,3,4,5]\n",
        "\n",
        "unique_elements = list(set(my_list))\n",
        "\n",
        "print(unique_elements)"
      ],
      "metadata": {
        "colab": {
          "base_uri": "https://localhost:8080/"
        },
        "id": "EkKSKFpa0_49",
        "outputId": "b1d7a7d6-42b0-4fcc-d925-d6ebe32d7a40"
      },
      "execution_count": 3,
      "outputs": [
        {
          "output_type": "stream",
          "name": "stdout",
          "text": [
            "[1, 2, 3, 4, 5]\n"
          ]
        }
      ]
    },
    {
      "cell_type": "code",
      "source": [
        "l = [[1, 2, 3], [4, 5, 6, 3], [-1, -2, -10, 5, 8]]\n",
        "\n",
        "sum_of_averages = 0\n",
        "\n",
        "for sublist in l:\n",
        "    average = sum(sublist) / len(sublist)\n",
        "    sum_of_averages += average\n",
        "\n",
        "print(sum_of_averages)"
      ],
      "metadata": {
        "colab": {
          "base_uri": "https://localhost:8080/"
        },
        "id": "LxFaJBMZ1sqG",
        "outputId": "482a3149-68a8-4853-ef85-626bd83c346d"
      },
      "execution_count": 4,
      "outputs": [
        {
          "output_type": "stream",
          "name": "stdout",
          "text": [
            "6.5\n"
          ]
        }
      ]
    },
    {
      "cell_type": "code",
      "source": [
        "number_nested = [[1, -1, 2], [0, -5, 3, 5, -2], [1, 2, 1, 0, -2, -3]]\n",
        "\n",
        "positive_numbers = []\n",
        "\n",
        "for sublist in number_nested:\n",
        "    positive_numbers.extend([num for num in sublist if num > 0])\n",
        "\n",
        "print(positive_numbers)"
      ],
      "metadata": {
        "colab": {
          "base_uri": "https://localhost:8080/"
        },
        "id": "qjBl0nxw2Opx",
        "outputId": "059eee38-c5ea-4e19-ef26-b8e1c3685de6"
      },
      "execution_count": 5,
      "outputs": [
        {
          "output_type": "stream",
          "name": "stdout",
          "text": [
            "[1, 2, 3, 5, 1, 2, 1]\n"
          ]
        }
      ]
    }
  ]
}