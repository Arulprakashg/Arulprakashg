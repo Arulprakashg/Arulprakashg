{
  "nbformat": 4,
  "nbformat_minor": 0,
  "metadata": {
    "colab": {
      "provenance": [],
      "authorship_tag": "ABX9TyOiN0eH+JkM6qUCUdRYXiY5",
      "include_colab_link": true
    },
    "kernelspec": {
      "name": "python3",
      "display_name": "Python 3"
    },
    "language_info": {
      "name": "python"
    }
  },
  "cells": [
    {
      "cell_type": "markdown",
      "metadata": {
        "id": "view-in-github",
        "colab_type": "text"
      },
      "source": [
        "<a href=\"https://colab.research.google.com/github/Arulprakashg/Arulprakashg/blob/main/Assignment.ipynb\" target=\"_parent\"><img src=\"https://colab.research.google.com/assets/colab-badge.svg\" alt=\"Open In Colab\"/></a>"
      ]
    },
    {
      "cell_type": "code",
      "execution_count": 1,
      "metadata": {
        "colab": {
          "base_uri": "https://localhost:8080/"
        },
        "id": "7V7S4p970SKI",
        "outputId": "b06cf78d-0dd2-4781-976c-50a897149066"
      },
      "outputs": [
        {
          "output_type": "stream",
          "name": "stdout",
          "text": [
            "['phone.jpg', 'view.jpg', 'bear,jpg', 'ball.png']\n",
            "<class 'list'>\n",
            "['phone.jpg', 'view.jpg', 'bear,jpg']\n"
          ]
        }
      ],
      "source": [
        "L1=['view.jpg','bear,jpg','ball.png']\n",
        "\n",
        "L1.insert(0,'phone.jpg')\n",
        "\n",
        "print(L1)\n",
        "\n",
        "L1.pop(3)\n",
        "\n",
        "print(type(L1))\n",
        "\n",
        "print(L1)"
      ]
    }
  ]
}