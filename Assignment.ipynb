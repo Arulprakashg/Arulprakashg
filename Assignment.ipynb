{
  "nbformat": 4,
  "nbformat_minor": 0,
  "metadata": {
    "colab": {
      "provenance": [],
      "authorship_tag": "ABX9TyMwdkJ87ydyIlJfpYJbuike",
      "include_colab_link": true
    },
    "kernelspec": {
      "name": "python3",
      "display_name": "Python 3"
    },
    "language_info": {
      "name": "python"
    }
  },
  "cells": [
    {
      "cell_type": "markdown",
      "metadata": {
        "id": "view-in-github",
        "colab_type": "text"
      },
      "source": [
        "<a href=\"https://colab.research.google.com/github/Arulprakashg/Arulprakashg/blob/main/Assignment.ipynb\" target=\"_parent\"><img src=\"https://colab.research.google.com/assets/colab-badge.svg\" alt=\"Open In Colab\"/></a>"
      ]
    },
    {
      "cell_type": "code",
      "execution_count": 1,
      "metadata": {
        "colab": {
          "base_uri": "https://localhost:8080/"
        },
        "id": "7V7S4p970SKI",
        "outputId": "b06cf78d-0dd2-4781-976c-50a897149066"
      },
      "outputs": [
        {
          "output_type": "stream",
          "name": "stdout",
          "text": [
            "['phone.jpg', 'view.jpg', 'bear,jpg', 'ball.png']\n",
            "<class 'list'>\n",
            "['phone.jpg', 'view.jpg', 'bear,jpg']\n"
          ]
        }
      ],
      "source": [
        "L1=['view.jpg','bear,jpg','ball.png']\n",
        "\n",
        "L1.insert(0,'phone.jpg')\n",
        "\n",
        "print(L1)\n",
        "\n",
        "L1.pop(3)\n",
        "\n",
        "print(type(L1))\n",
        "\n",
        "print(L1)"
      ]
    },
    {
      "cell_type": "code",
      "source": [
        "my_list = [1,1,1,1,2,2,3,3,3,3,4,5]\n",
        "\n",
        "unique_elements = list(set(my_list))\n",
        "\n",
        "print(unique_elements)"
      ],
      "metadata": {
        "colab": {
          "base_uri": "https://localhost:8080/"
        },
        "id": "EkKSKFpa0_49",
        "outputId": "b1d7a7d6-42b0-4fcc-d925-d6ebe32d7a40"
      },
      "execution_count": 3,
      "outputs": [
        {
          "output_type": "stream",
          "name": "stdout",
          "text": [
            "[1, 2, 3, 4, 5]\n"
          ]
        }
      ]
    }
  ]
}