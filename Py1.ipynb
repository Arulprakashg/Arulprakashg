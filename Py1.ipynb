{
  "nbformat": 4,
  "nbformat_minor": 0,
  "metadata": {
    "colab": {
      "provenance": [],
      "authorship_tag": "ABX9TyMF7fG5iiu4rJ5RtOvTt/rL",
      "include_colab_link": true
    },
    "kernelspec": {
      "name": "python3",
      "display_name": "Python 3"
    },
    "language_info": {
      "name": "python"
    }
  },
  "cells": [
    {
      "cell_type": "markdown",
      "metadata": {
        "id": "view-in-github",
        "colab_type": "text"
      },
      "source": [
        "<a href=\"https://colab.research.google.com/github/Arulprakashg/Arulprakashg/blob/main/Py1.ipynb\" target=\"_parent\"><img src=\"https://colab.research.google.com/assets/colab-badge.svg\" alt=\"Open In Colab\"/></a>"
      ]
    },
    {
      "cell_type": "code",
      "execution_count": null,
      "metadata": {
        "colab": {
          "base_uri": "https://localhost:8080/"
        },
        "id": "Vex5H4YOa2Bf",
        "outputId": "35239ed1-7c5c-4a8f-e0b0-a1d3aedb9b52"
      },
      "outputs": [
        {
          "output_type": "stream",
          "name": "stdout",
          "text": [
            "Hello World\n"
          ]
        }
      ],
      "source": [
        "print(\"Hello World\")"
      ]
    },
    {
      "cell_type": "code",
      "source": [
        "L1= [1,2,3,4,5]\n",
        "print(L1[2])"
      ],
      "metadata": {
        "colab": {
          "base_uri": "https://localhost:8080/"
        },
        "id": "GldvhfykBfY-",
        "outputId": "4178a212-8996-4609-9981-898e4786b380"
      },
      "execution_count": null,
      "outputs": [
        {
          "output_type": "stream",
          "name": "stdout",
          "text": [
            "3\n"
          ]
        }
      ]
    },
    {
      "cell_type": "code",
      "source": [
        "L1 = [10,20,30,40,50]\n",
        "L1.append(60)\n",
        "L1.insert(0,9)\n",
        "print(L1)\n",
        "print(L1[2])\n",
        "print(L1[-1])\n"
      ],
      "metadata": {
        "colab": {
          "base_uri": "https://localhost:8080/"
        },
        "id": "Hi8AyENtDtJV",
        "outputId": "b5abc5e2-a601-4f54-c97a-fd360dfc7634"
      },
      "execution_count": null,
      "outputs": [
        {
          "output_type": "stream",
          "name": "stdout",
          "text": [
            "[9, 10, 20, 30, 40, 50, 60]\n",
            "20\n",
            "60\n"
          ]
        }
      ]
    },
    {
      "cell_type": "code",
      "source": [
        "L1= [1,2,3]\n",
        "L2= [4,5,6]\n",
        "#L1.append(L2)\n",
        "L1.extend(L2)\n",
        "print(L1)"
      ],
      "metadata": {
        "colab": {
          "base_uri": "https://localhost:8080/"
        },
        "id": "L_hA_-3TGRi2",
        "outputId": "20ae4005-fa5f-4cdf-eb5d-6e7d1901129a"
      },
      "execution_count": null,
      "outputs": [
        {
          "output_type": "stream",
          "name": "stdout",
          "text": [
            "[1, 2, 3, 4, 5, 6]\n"
          ]
        }
      ]
    },
    {
      "cell_type": "markdown",
      "source": [
        "###.remove()\n",
        "Remove item from the list.remove first occur\n"
      ],
      "metadata": {
        "id": "12-nVaciHkh8"
      }
    },
    {
      "cell_type": "code",
      "source": [
        "L1 =[1,2,3,4,2]\n",
        "L1.remove(2)\n",
        "print(L1)"
      ],
      "metadata": {
        "colab": {
          "base_uri": "https://localhost:8080/"
        },
        "id": "WgATk5sFHtSM",
        "outputId": "bd3cff4a-2493-4247-89c5-5e47728d06f0"
      },
      "execution_count": null,
      "outputs": [
        {
          "output_type": "stream",
          "name": "stdout",
          "text": [
            "[1, 3, 4, 2]\n"
          ]
        }
      ]
    },
    {
      "cell_type": "code",
      "source": [
        "L1 = [1,2,3,4,2]\n",
        "del L1[0:3]\n",
        "print(L1)"
      ],
      "metadata": {
        "colab": {
          "base_uri": "https://localhost:8080/"
        },
        "id": "M5mBxqvRIbAG",
        "outputId": "6d7a9b0e-b619-4d48-ce7c-66ce9069a2fc"
      },
      "execution_count": null,
      "outputs": [
        {
          "output_type": "stream",
          "name": "stdout",
          "text": [
            "[4, 2]\n"
          ]
        }
      ]
    },
    {
      "cell_type": "code",
      "source": [
        "L1 = [1,2,3,4,5]\n",
        "removed_element = L1.pop()\n",
        "print(removed_element)\n",
        "print(L1)"
      ],
      "metadata": {
        "colab": {
          "base_uri": "https://localhost:8080/"
        },
        "id": "CrD8F_64IiXC",
        "outputId": "78d68135-9366-484f-c194-41b3b78105db"
      },
      "execution_count": null,
      "outputs": [
        {
          "output_type": "stream",
          "name": "stdout",
          "text": [
            "5\n",
            "[1, 2, 3, 4]\n"
          ]
        }
      ]
    },
    {
      "cell_type": "code",
      "source": [
        "L1 = [1,2,3,4,5]\n",
        "removed_element = L1.pop(0)\n",
        "print(removed_element)\n",
        "print(L1)"
      ],
      "metadata": {
        "colab": {
          "base_uri": "https://localhost:8080/"
        },
        "id": "fDKpkksUJWr0",
        "outputId": "0f36423a-ccb2-4931-cd3c-ce543451e30d"
      },
      "execution_count": null,
      "outputs": [
        {
          "output_type": "stream",
          "name": "stdout",
          "text": [
            "1\n",
            "[2, 3, 4, 5]\n"
          ]
        }
      ]
    },
    {
      "cell_type": "code",
      "source": [
        "L1 = [1,2, [3,4] ]\n",
        "\n",
        "\n",
        "print(L1[2][0])"
      ],
      "metadata": {
        "colab": {
          "base_uri": "https://localhost:8080/"
        },
        "id": "kaud1_dTJ8Vk",
        "outputId": "b37fb0c1-9c77-4723-f95b-51475f461363"
      },
      "execution_count": null,
      "outputs": [
        {
          "output_type": "stream",
          "name": "stdout",
          "text": [
            "3\n"
          ]
        }
      ]
    },
    {
      "cell_type": "code",
      "source": [
        "L1 = [1,2,3,4,2,3,5,1]\n",
        "L1.count(1)"
      ],
      "metadata": {
        "colab": {
          "base_uri": "https://localhost:8080/"
        },
        "id": "JRWVXhZsLfgW",
        "outputId": "e2b40f4c-73b5-4d63-bf9d-e5532f6dcf65"
      },
      "execution_count": null,
      "outputs": [
        {
          "output_type": "execute_result",
          "data": {
            "text/plain": [
              "2"
            ]
          },
          "metadata": {},
          "execution_count": 27
        }
      ]
    },
    {
      "cell_type": "markdown",
      "source": [
        "Given a list\n",
        "L = [1,2,3,2,1,4,5,1,4,3,2]\n",
        "Write a program without using .count() how many times a given number(take from keyboard( it exists\n",
        "\n",
        "Input\n",
        "Enter a number : 1\n",
        "Expected OUtput\n",
        "3\n"
      ],
      "metadata": {
        "id": "j0eNzTwmMBIL"
      }
    },
    {
      "cell_type": "code",
      "source": [
        "L1 = [1,2,3,4,2,3,5,1]\n",
        "expected_num = int(input(\"Enter  a number\"))\n",
        "count = 0\n",
        "for e in L1:\n",
        "  if e == expected_num:\n",
        "    count+=1\n",
        "print(count)"
      ],
      "metadata": {
        "colab": {
          "base_uri": "https://localhost:8080/"
        },
        "id": "Jan4hVWYMEbL",
        "outputId": "3405ecf3-f204-4227-fae4-5673ab154063"
      },
      "execution_count": null,
      "outputs": [
        {
          "output_type": "stream",
          "name": "stdout",
          "text": [
            "Enter  a number3\n",
            "2\n"
          ]
        }
      ]
    },
    {
      "cell_type": "code",
      "source": [
        "days = (\"Mon\",\"Tue\",\"Wed\",\"Thu\",\"Fri\",\"Sat\",\"Sun\")\n",
        "print(type(days))\n",
        "print(days[0])\n",
        "for item in days:\n",
        "  print(item)\n",
        "for index,value in enumerate(days):\n",
        "  print(index,value)\n"
      ],
      "metadata": {
        "colab": {
          "base_uri": "https://localhost:8080/"
        },
        "id": "uRcazzfnllSF",
        "outputId": "b144cb25-2400-48cf-98c8-d574de4118f9"
      },
      "execution_count": null,
      "outputs": [
        {
          "output_type": "stream",
          "name": "stdout",
          "text": [
            "<class 'tuple'>\n",
            "Mon\n",
            "Mon\n",
            "Tue\n",
            "Wed\n",
            "Thu\n",
            "Fri\n",
            "Sat\n",
            "Sun\n",
            "0 Mon\n",
            "1 Tue\n",
            "2 Wed\n",
            "3 Thu\n",
            "4 Fri\n",
            "5 Sat\n",
            "6 Sun\n"
          ]
        }
      ]
    },
    {
      "cell_type": "code",
      "source": [
        "my_tuple = (1,2,3)\n",
        "x = my_tuple[0]\n",
        "y = my_tuple[1]\n",
        "z = my_tuple[2]\n",
        "print(x,y,z)\n",
        "\n",
        "\n",
        "x,y,z=my_tuple\n",
        "print(x,y,z)"
      ],
      "metadata": {
        "colab": {
          "base_uri": "https://localhost:8080/"
        },
        "id": "__cgpgxcoDyF",
        "outputId": "9fffa3dd-0b2d-4b5f-8509-cee7061c12e0"
      },
      "execution_count": null,
      "outputs": [
        {
          "output_type": "stream",
          "name": "stdout",
          "text": [
            "1 2 3\n",
            "1 2 3\n"
          ]
        }
      ]
    },
    {
      "cell_type": "code",
      "source": [
        "T1 = (1,2,3)\n",
        "T2 = (\"JAN\",\"FEB\",\"MAR\")\n",
        "result = (T1,T2) # ((1,2,3),  (\"JAN\",\"FEB\",\"MAR\"))\n",
        "print(result[1][1])"
      ],
      "metadata": {
        "colab": {
          "base_uri": "https://localhost:8080/"
        },
        "id": "9YCKpkFYpfsd",
        "outputId": "3b2b34cb-20c2-4bf9-b669-f7bcf458d41c"
      },
      "execution_count": null,
      "outputs": [
        {
          "output_type": "stream",
          "name": "stdout",
          "text": [
            "FEB\n"
          ]
        }
      ]
    },
    {
      "cell_type": "code",
      "source": [
        "days = (\"Mon\",\"Tue\",\"Wed\",\"Thu\",\"Fri\",\"Sat\",\"Sun\",\"Tue\")\n",
        "print(days.index(\"Tue\"))\n",
        "print(days.count(\"Tue\"))"
      ],
      "metadata": {
        "colab": {
          "base_uri": "https://localhost:8080/"
        },
        "id": "foS2mqQaqLIl",
        "outputId": "267cf56a-c9da-4bff-ad22-cc71f8b0c370"
      },
      "execution_count": null,
      "outputs": [
        {
          "output_type": "stream",
          "name": "stdout",
          "text": [
            "1\n",
            "2\n"
          ]
        }
      ]
    },
    {
      "cell_type": "code",
      "source": [
        "T= (1,2,3)\n",
        "T=T+(11,12,13)\n",
        "print(T)"
      ],
      "metadata": {
        "colab": {
          "base_uri": "https://localhost:8080/"
        },
        "id": "XB1zKt3TrRiY",
        "outputId": "1685833c-cfa2-4b9c-f2db-ae6e0ee626d1"
      },
      "execution_count": null,
      "outputs": [
        {
          "output_type": "stream",
          "name": "stdout",
          "text": [
            "(1, 2, 3, 11, 12, 13)\n"
          ]
        }
      ]
    },
    {
      "cell_type": "code",
      "source": [
        "n=int (input(\"Enter n\"))\n",
        "L = []\n",
        "for iter in range(n):\n",
        "  name = input(\"Enter name\")\n",
        "  L.append(name)\n",
        "T = tuple(L)\n",
        "print(type(T))\n",
        "print(T)\n",
        "\n"
      ],
      "metadata": {
        "colab": {
          "base_uri": "https://localhost:8080/",
          "height": 253
        },
        "id": "e8BTOYdRrm8l",
        "outputId": "6a3e772e-d660-4306-a1c9-f804ef98f688"
      },
      "execution_count": null,
      "outputs": [
        {
          "name": "stdout",
          "output_type": "stream",
          "text": [
            "Enter na\n"
          ]
        },
        {
          "output_type": "error",
          "ename": "ValueError",
          "evalue": "ignored",
          "traceback": [
            "\u001b[0;31m---------------------------------------------------------------------------\u001b[0m",
            "\u001b[0;31mValueError\u001b[0m                                Traceback (most recent call last)",
            "\u001b[0;32m<ipython-input-20-55c6ab382aa9>\u001b[0m in \u001b[0;36m<cell line: 1>\u001b[0;34m()\u001b[0m\n\u001b[0;32m----> 1\u001b[0;31m \u001b[0mn\u001b[0m\u001b[0;34m=\u001b[0m\u001b[0mint\u001b[0m \u001b[0;34m(\u001b[0m\u001b[0minput\u001b[0m\u001b[0;34m(\u001b[0m\u001b[0;34m\"Enter n\"\u001b[0m\u001b[0;34m)\u001b[0m\u001b[0;34m)\u001b[0m\u001b[0;34m\u001b[0m\u001b[0;34m\u001b[0m\u001b[0m\n\u001b[0m\u001b[1;32m      2\u001b[0m \u001b[0mL\u001b[0m \u001b[0;34m=\u001b[0m \u001b[0;34m[\u001b[0m\u001b[0;34m]\u001b[0m\u001b[0;34m\u001b[0m\u001b[0;34m\u001b[0m\u001b[0m\n\u001b[1;32m      3\u001b[0m \u001b[0;32mfor\u001b[0m \u001b[0miter\u001b[0m \u001b[0;32min\u001b[0m \u001b[0mrange\u001b[0m\u001b[0;34m(\u001b[0m\u001b[0mn\u001b[0m\u001b[0;34m)\u001b[0m\u001b[0;34m:\u001b[0m\u001b[0;34m\u001b[0m\u001b[0;34m\u001b[0m\u001b[0m\n\u001b[1;32m      4\u001b[0m   \u001b[0mname\u001b[0m \u001b[0;34m=\u001b[0m \u001b[0minput\u001b[0m\u001b[0;34m(\u001b[0m\u001b[0;34m\"Enter name\"\u001b[0m\u001b[0;34m)\u001b[0m\u001b[0;34m\u001b[0m\u001b[0;34m\u001b[0m\u001b[0m\n\u001b[1;32m      5\u001b[0m   \u001b[0mL\u001b[0m\u001b[0;34m.\u001b[0m\u001b[0mappend\u001b[0m\u001b[0;34m(\u001b[0m\u001b[0mname\u001b[0m\u001b[0;34m)\u001b[0m\u001b[0;34m\u001b[0m\u001b[0;34m\u001b[0m\u001b[0m\n",
            "\u001b[0;31mValueError\u001b[0m: invalid literal for int() with base 10: 'a'"
          ]
        }
      ]
    },
    {
      "cell_type": "code",
      "source": [
        "n = int(input(\"Enter n\"))\n",
        "L = []\n",
        "for iter in range(n):\n",
        "  name = input(\"Enter name\")\n",
        "  L.append(name)\n",
        "T = tuple(L)\n",
        "print(type(T))\n",
        "print(T)\n"
      ],
      "metadata": {
        "colab": {
          "base_uri": "https://localhost:8080/",
          "height": 253
        },
        "id": "Sz-I5iN6uz4t",
        "outputId": "b60e76c5-4055-4d9e-d08e-8a5803e01c47"
      },
      "execution_count": null,
      "outputs": [
        {
          "name": "stdout",
          "output_type": "stream",
          "text": [
            "Enter na\n"
          ]
        },
        {
          "output_type": "error",
          "ename": "ValueError",
          "evalue": "ignored",
          "traceback": [
            "\u001b[0;31m---------------------------------------------------------------------------\u001b[0m",
            "\u001b[0;31mValueError\u001b[0m                                Traceback (most recent call last)",
            "\u001b[0;32m<ipython-input-21-27b091862491>\u001b[0m in \u001b[0;36m<cell line: 1>\u001b[0;34m()\u001b[0m\n\u001b[0;32m----> 1\u001b[0;31m \u001b[0mn\u001b[0m \u001b[0;34m=\u001b[0m \u001b[0mint\u001b[0m\u001b[0;34m(\u001b[0m\u001b[0minput\u001b[0m\u001b[0;34m(\u001b[0m\u001b[0;34m\"Enter n\"\u001b[0m\u001b[0;34m)\u001b[0m\u001b[0;34m)\u001b[0m\u001b[0;34m\u001b[0m\u001b[0;34m\u001b[0m\u001b[0m\n\u001b[0m\u001b[1;32m      2\u001b[0m \u001b[0mL\u001b[0m \u001b[0;34m=\u001b[0m \u001b[0;34m[\u001b[0m\u001b[0;34m]\u001b[0m\u001b[0;34m\u001b[0m\u001b[0;34m\u001b[0m\u001b[0m\n\u001b[1;32m      3\u001b[0m \u001b[0;32mfor\u001b[0m \u001b[0miter\u001b[0m \u001b[0;32min\u001b[0m \u001b[0mrange\u001b[0m\u001b[0;34m(\u001b[0m\u001b[0mn\u001b[0m\u001b[0;34m)\u001b[0m\u001b[0;34m:\u001b[0m\u001b[0;34m\u001b[0m\u001b[0;34m\u001b[0m\u001b[0m\n\u001b[1;32m      4\u001b[0m   \u001b[0mname\u001b[0m \u001b[0;34m=\u001b[0m \u001b[0minput\u001b[0m\u001b[0;34m(\u001b[0m\u001b[0;34m\"Enter name\"\u001b[0m\u001b[0;34m)\u001b[0m\u001b[0;34m\u001b[0m\u001b[0;34m\u001b[0m\u001b[0m\n\u001b[1;32m      5\u001b[0m   \u001b[0mL\u001b[0m\u001b[0;34m.\u001b[0m\u001b[0mappend\u001b[0m\u001b[0;34m(\u001b[0m\u001b[0mname\u001b[0m\u001b[0;34m)\u001b[0m\u001b[0;34m\u001b[0m\u001b[0;34m\u001b[0m\u001b[0m\n",
            "\u001b[0;31mValueError\u001b[0m: invalid literal for int() with base 10: 'a'"
          ]
        }
      ]
    },
    {
      "cell_type": "code",
      "source": [
        "S1={1,2,2,3,3,4,5}\n",
        "print(type(S1))\n",
        "print(S1)\n",
        "S2={1,\"jan\"}\n",
        "print(S2)\n",
        "S3 = {\"A\",1,2,\"B\"}\n",
        "print(S3)\n",
        "item =S3.pop()\n",
        "print(item)\n",
        "S3 = {\"A\",1,2,-1,\"D\",\"B\"}\n",
        "print(S3)\n",
        "S3.remove(\"A\")\n",
        "print(S3)"
      ],
      "metadata": {
        "colab": {
          "base_uri": "https://localhost:8080/"
        },
        "id": "GdK9qko-vHKt",
        "outputId": "5a138d88-3e95-44eb-f5e4-09e7044aa4f7"
      },
      "execution_count": null,
      "outputs": [
        {
          "output_type": "stream",
          "name": "stdout",
          "text": [
            "<class 'set'>\n",
            "{1, 2, 3, 4, 5}\n",
            "{1, 'jan'}\n",
            "{'B', 1, 2, 'A'}\n",
            "B\n",
            "{1, 2, 'D', 'A', 'B', -1}\n",
            "{1, 2, 'D', 'B', -1}\n"
          ]
        }
      ]
    },
    {
      "cell_type": "code",
      "source": [
        "T1 = (1,1.5,\"Hello\",[1,2,3])\n",
        "print(T1[1])\n"
      ],
      "metadata": {
        "colab": {
          "base_uri": "https://localhost:8080/"
        },
        "id": "ymYPxI0Gl1Tl",
        "outputId": "5297ff1e-9fff-4b4e-a922-cebac1a06d66"
      },
      "execution_count": null,
      "outputs": [
        {
          "output_type": "stream",
          "name": "stdout",
          "text": [
            "1.5\n"
          ]
        }
      ]
    },
    {
      "cell_type": "code",
      "source": [
        "D1 = {'apple':'red', 'grapes':'green'}\n",
        "print(type(D1))\n",
        "D2 = dict(apple='red', grapes='green')\n",
        "print(type(D2))\n",
        "print(D2)\n",
        "D3 = dict(D1,oranges='orange')\n",
        "print(type(D3))\n",
        "print(D3)\n",
        "D4 = dict([('apples','grapes'),('red','green')])\n",
        "print(type(D4))\n",
        "print(D4)\n",
        "D1 = {'apple':'red', 'grapes':'green'}\n",
        "print(D1['apple'])\n",
        "D1 = {'apple':'red', 'grapes':'green'}\n",
        "print(D1.get('apple'))\n",
        "print(D1.get('mango',\"No key\"))\n",
        "D1['apple'] = \"yellow\"\n",
        "print(D1)\n",
        "D1['oranges'] = 'orange'\n",
        "print(D1)"
      ],
      "metadata": {
        "colab": {
          "base_uri": "https://localhost:8080/"
        },
        "id": "0QHTnhb5meA9",
        "outputId": "23bc8d93-d850-4185-ad5b-5366bd0a4fb7"
      },
      "execution_count": null,
      "outputs": [
        {
          "output_type": "stream",
          "name": "stdout",
          "text": [
            "<class 'dict'>\n",
            "<class 'dict'>\n",
            "{'apple': 'red', 'grapes': 'green'}\n",
            "<class 'dict'>\n",
            "{'apple': 'red', 'grapes': 'green', 'oranges': 'orange'}\n",
            "<class 'dict'>\n",
            "{'apples': 'grapes', 'red': 'green'}\n",
            "red\n",
            "red\n",
            "No key\n",
            "{'apple': 'yellow', 'grapes': 'green'}\n",
            "{'apple': 'yellow', 'grapes': 'green', 'oranges': 'orange'}\n"
          ]
        }
      ]
    },
    {
      "cell_type": "code",
      "source": [
        "D1 = {'apple':'red', 'grapes':'green'}\n",
        "for k in D1:\n",
        "  print(k)\n",
        "\n",
        "\n",
        "print(\"------\")\n",
        "for k in D1.keys():\n",
        "  print(k)\n",
        "\n",
        "\n",
        "for v in D1.values():\n",
        "  print(v)\n",
        "\n",
        "\n",
        "for k,v in D1.items():\n",
        "  print(k,v)"
      ],
      "metadata": {
        "colab": {
          "base_uri": "https://localhost:8080/"
        },
        "id": "JFNGwKWu5qcF",
        "outputId": "9bb38913-eeb1-48d0-d7f3-0f52f22a4c55"
      },
      "execution_count": null,
      "outputs": [
        {
          "output_type": "stream",
          "name": "stdout",
          "text": [
            "apple\n",
            "grapes\n",
            "------\n",
            "apple\n",
            "grapes\n",
            "red\n",
            "green\n",
            "apple red\n",
            "grapes green\n"
          ]
        }
      ]
    },
    {
      "cell_type": "markdown",
      "source": [
        "Problem Statement\n",
        "\n",
        "Given a list of numbers\n",
        "L1 = [1,2,3,4,5,6,7,8,9,10]\n",
        "Write a program to increment all numbers and store it in another list\n",
        "Expected Output\n",
        "L2 = [2,3,4,5,6,7,8,9,10,11]\n"
      ],
      "metadata": {
        "id": "SuUYt5X_N_dt"
      }
    },
    {
      "cell_type": "code",
      "source": [
        "L1 = [1, 2, 3, 4, 5, 6, 7, 8, 9, 10]\n",
        "\n",
        "L2 = []\n",
        "\n",
        "for num in L1:\n",
        "\n",
        "  incremented_num = num + 1\n",
        "  L2.append(incremented_num)\n",
        "\n",
        "print(\"L2:\", L2)"
      ],
      "metadata": {
        "colab": {
          "base_uri": "https://localhost:8080/"
        },
        "id": "PlbU8xEuN_1i",
        "outputId": "ccff16d8-9736-4e68-9bcd-1d553442fe66"
      },
      "execution_count": null,
      "outputs": [
        {
          "output_type": "stream",
          "name": "stdout",
          "text": [
            "L2: [2, 3, 4, 5, 6, 7, 8, 9, 10, 11]\n"
          ]
        }
      ]
    },
    {
      "cell_type": "code",
      "source": [
        "L1 = [1, 2, 3, 4, 5, 6, 7, 8, 9, 10]\n",
        "L2 = []\n",
        "if num%2==0 L1:\n",
        " print(\"L2:\", L2)"
      ],
      "metadata": {
        "colab": {
          "base_uri": "https://localhost:8080/",
          "height": 131
        },
        "id": "yWmsDbJRQws1",
        "outputId": "e0573645-4b1b-4118-dd83-bd624ca3021b"
      },
      "execution_count": null,
      "outputs": [
        {
          "output_type": "error",
          "ename": "SyntaxError",
          "evalue": "ignored",
          "traceback": [
            "\u001b[0;36m  File \u001b[0;32m\"<ipython-input-41-7b9e26af441b>\"\u001b[0;36m, line \u001b[0;32m3\u001b[0m\n\u001b[0;31m    if num%2==0 L1:\u001b[0m\n\u001b[0m                ^\u001b[0m\n\u001b[0;31mSyntaxError\u001b[0m\u001b[0;31m:\u001b[0m invalid syntax\n"
          ]
        }
      ]
    },
    {
      "cell_type": "code",
      "source": [
        "l2=[e for e in L1 if e%2==0]\n",
        "print(l2)"
      ],
      "metadata": {
        "colab": {
          "base_uri": "https://localhost:8080/"
        },
        "id": "mzedg2w5U2Tq",
        "outputId": "c901850a-b8f3-4e7b-bae7-5dd194437cd7"
      },
      "execution_count": null,
      "outputs": [
        {
          "output_type": "stream",
          "name": "stdout",
          "text": [
            "[2, 4, 6, 8, 10]\n"
          ]
        }
      ]
    },
    {
      "cell_type": "code",
      "source": [
        "l2=[e for e in L1 if e%2==0 and e%3==0]\n",
        "print(l2)"
      ],
      "metadata": {
        "colab": {
          "base_uri": "https://localhost:8080/"
        },
        "id": "BKGdJzMmVkW7",
        "outputId": "c846d460-52df-4fd3-cce7-b1f5bbf40751"
      },
      "execution_count": null,
      "outputs": [
        {
          "output_type": "stream",
          "name": "stdout",
          "text": [
            "[6]\n"
          ]
        }
      ]
    },
    {
      "cell_type": "code",
      "source": [
        "\n",
        "l1=list(range(1,6))\n",
        "L2=[e+1 if e%2==0 else e+2 for e in l1]\n",
        "print(L2)\n"
      ],
      "metadata": {
        "colab": {
          "base_uri": "https://localhost:8080/"
        },
        "id": "Pcc9RLUtWizT",
        "outputId": "66e70d17-ab1c-44a4-8842-fafd568c73cb"
      },
      "execution_count": null,
      "outputs": [
        {
          "output_type": "stream",
          "name": "stdout",
          "text": [
            "[3, 3, 5, 5, 7]\n"
          ]
        }
      ]
    },
    {
      "cell_type": "code",
      "source": [
        "L1 = [1,2,3]\n",
        "L2 = [4,5,6]\n",
        "L1.append(L2)\n",
        "print(L1)\n",
        "print(len(L1))"
      ],
      "metadata": {
        "colab": {
          "base_uri": "https://localhost:8080/"
        },
        "id": "hBis4jqKGqAf",
        "outputId": "468b511f-dfd0-4a05-ed37-9b2bc4e428c1"
      },
      "execution_count": null,
      "outputs": [
        {
          "output_type": "stream",
          "name": "stdout",
          "text": [
            "[1, 2, 3, [4, 5, 6]]\n",
            "4\n"
          ]
        }
      ]
    },
    {
      "cell_type": "code",
      "source": [
        "L1 = [10,20,30,40,50]\n",
        "L2 = list( [10,20,30,40,50])\n",
        "print(type(L1))\n",
        "print(type(L2))"
      ],
      "metadata": {
        "colab": {
          "base_uri": "https://localhost:8080/"
        },
        "id": "41Xv-GxqC9XT",
        "outputId": "90cad421-b6da-43bc-f830-53c39cd654de"
      },
      "execution_count": null,
      "outputs": [
        {
          "output_type": "stream",
          "name": "stdout",
          "text": [
            "<class 'list'>\n",
            "<class 'list'>\n"
          ]
        }
      ]
    },
    {
      "cell_type": "code",
      "source": [],
      "metadata": {
        "id": "etRYPTsKBgLp"
      },
      "execution_count": null,
      "outputs": []
    },
    {
      "cell_type": "code",
      "source": [
        "number = int(input(\"Enter an integer:\"))\n",
        "for i in range(1,number+1):\n",
        "    if i%3 ==0 and i%5==0:\n",
        "      print(\"fizz fuzz\")\n",
        "    elif i%3==0:\n",
        "      print(\"fizz\")\n",
        "    elif i%5==0:\n",
        "      print(\"fuzz\")\n",
        "    else:\n",
        "      print(i)\n"
      ],
      "metadata": {
        "colab": {
          "base_uri": "https://localhost:8080/"
        },
        "id": "Rp9o9yMCdJfP",
        "outputId": "c0111178-2724-4aed-935a-c110a14a4695"
      },
      "execution_count": null,
      "outputs": [
        {
          "output_type": "stream",
          "name": "stdout",
          "text": [
            "Enter an integer:10\n",
            "1\n",
            "2\n",
            "fizz\n",
            "4\n",
            "fuzz\n",
            "fizz\n",
            "7\n",
            "8\n",
            "fizz\n",
            "fuzz\n"
          ]
        }
      ]
    },
    {
      "cell_type": "code",
      "source": [],
      "metadata": {
        "id": "JpHHFEtRBeVI"
      },
      "execution_count": null,
      "outputs": []
    },
    {
      "cell_type": "code",
      "source": [
        "calls = int(input(\"Enter the number of calls: \"))\n",
        "\n",
        "if calls <= 100:\n",
        "    bill = 200\n",
        "elif calls <= 150:\n",
        "    bill = 200 + 0.6*(calls-100)\n",
        "elif calls <= 200:\n",
        "    bill = 200 + 0.6*50 + 0.5*(calls-150)\n",
        "else:\n",
        "    bill = 200 + 0.6*50 + 0.5*50 + 0.4*(calls-200)\n",
        "\n",
        "print(\"The monthly telephone bill is: Rs.\", bill)\n"
      ],
      "metadata": {
        "colab": {
          "base_uri": "https://localhost:8080/"
        },
        "id": "sgQ4VSpPienQ",
        "outputId": "3e29276b-b980-4c38-8d15-4550240e7945"
      },
      "execution_count": null,
      "outputs": [
        {
          "output_type": "stream",
          "name": "stdout",
          "text": [
            "Enter the number of calls: 110\n",
            "The monthly telephone bill is: Rs. 206.0\n"
          ]
        }
      ]
    },
    {
      "cell_type": "code",
      "source": [
        "def calculate_net_amount(log_message):\n",
        "    # Initialize the net amount to zero\n",
        "    net_amount = 0\n",
        "\n",
        "    # Split the log message into individual transactions\n",
        "    transactions = log_message.split()\n",
        "\n",
        "    # Process each transaction\n",
        "    for transaction in transactions:\n",
        "        # Check if the transaction is a deposit\n",
        "        if transaction[0] == 'D':\n",
        "            # Extract the deposit amount and add it to the net amount\n",
        "            deposit = int(transaction[2:])\n",
        "            net_amount += deposit\n",
        "        # Check if the transaction is a withdrawal\n",
        "        elif transaction[0] == 'W':\n",
        "            # Extract the withdrawal amount and subtract it from the net amount\n",
        "            withdrawal = int(transaction[2:])\n",
        "            net_amount -= withdrawal\n",
        "\n",
        "    # Return the final net amount\n",
        "    return net_amount\n",
        "\n",
        "# Test the function with sample inputs\n",
        "print(calculate_net_amount(\"D:100 w:100\"))  # Expected output: 90\n",
        "print(calculate_net_amount(\"D:100 W:200 D:400\"))  # Expected output: 300"
      ],
      "metadata": {
        "colab": {
          "base_uri": "https://localhost:8080/"
        },
        "id": "ZWDKbOKVgQEM",
        "outputId": "67bcfaca-6d2b-4b45-9cdf-e9f13115dcc4"
      },
      "execution_count": null,
      "outputs": [
        {
          "output_type": "stream",
          "name": "stdout",
          "text": [
            "100\n",
            "300\n"
          ]
        }
      ]
    },
    {
      "cell_type": "code",
      "source": [
        "filenames=['view.jpg','bear.jpg','ball.png']\n",
        "print(filenames)\n",
        "filenames.insert(0,\"phone.jpg\")\n",
        "print(filenames)\n",
        "filenames.pop()\n",
        "print(\"expected Output is \",filenames)"
      ],
      "metadata": {
        "colab": {
          "base_uri": "https://localhost:8080/"
        },
        "id": "FxvrRwuLIIwA",
        "outputId": "37e0bf02-e280-4c95-a2a2-87ccc19aba0f"
      },
      "execution_count": null,
      "outputs": [
        {
          "output_type": "stream",
          "name": "stdout",
          "text": [
            "['view.jpg', 'bear.jpg', 'ball.png']\n",
            "['phone.jpg', 'view.jpg', 'bear.jpg', 'ball.png']\n",
            "expected Output is  ['phone.jpg', 'view.jpg', 'bear.jpg']\n"
          ]
        }
      ]
    },
    {
      "cell_type": "code",
      "source": [
        "list=[]\n",
        "\n",
        "n = int(input(\"Enter the length of your list: \"))\n",
        "\n",
        "for i in range (1,n+1):\n",
        "\n",
        "    a=int(input(\"Enter the %d number: \" %i ))\n",
        "\n",
        "    list.append(a)\n",
        "\n",
        "minimum=list[0]\n",
        "\n",
        "maximum=list[0]\n",
        "\n",
        "# average=sum(list)//n\n",
        "\n",
        "for i in range(1,n):\n",
        "\n",
        "    if maximum<list[i]:\n",
        "\n",
        "        maximum=list[i]\n",
        "\n",
        "    if minimum>list[i]:\n",
        "\n",
        "        minimum=list[i]\n",
        "\n",
        "sum_of_list=0\n",
        "\n",
        "for i in list:\n",
        "\n",
        "       sum_of_list+=i\n",
        "\n",
        "average=sum_of_list//n\n",
        "\n",
        "print(\" %d is the Maximum number \" %maximum)\n",
        "\n",
        "print(\" %d is the Minimum number \" %minimum)\n",
        "\n",
        "print(\" %d is the average element in a list \" %average)"
      ],
      "metadata": {
        "id": "e5qPd19-IjA-"
      },
      "execution_count": null,
      "outputs": []
    },
    {
      "cell_type": "code",
      "source": [
        "number_nested = [[1, -1, 2], [0, -5, 3, 5, -2], [1, 2, 1, 0, -2, -3]]\n",
        "\n",
        "positive_numbers = []\n",
        "\n",
        "for sublist in number_nested:\n",
        "    positive_numbers.extend([num for num in sublist if num > 0])\n",
        "\n",
        "print(positive_numbers)"
      ],
      "metadata": {
        "colab": {
          "base_uri": "https://localhost:8080/"
        },
        "id": "hNRuPE9bxl2o",
        "outputId": "55672052-a685-48dd-a245-54b70694c9ab"
      },
      "execution_count": null,
      "outputs": [
        {
          "output_type": "stream",
          "name": "stdout",
          "text": [
            "[1, 2, 3, 5, 1, 2, 1]\n"
          ]
        }
      ]
    },
    {
      "cell_type": "code",
      "source": [
        "l = [[1, 2, 3], [4, 5, 6, 3], [-1, -2, -10, 5, 8]]\n",
        "\n",
        "sum_of_averages = 0\n",
        "\n",
        "for sublist in l:\n",
        "    average = sum(sublist) / len(sublist)\n",
        "    sum_of_averages += average\n",
        "\n",
        "print(sum_of_averages)"
      ],
      "metadata": {
        "colab": {
          "base_uri": "https://localhost:8080/"
        },
        "id": "tp9WAW5xx5qh",
        "outputId": "d4f6dec5-085c-40ad-aa43-5308b9fcc681"
      },
      "execution_count": null,
      "outputs": [
        {
          "output_type": "stream",
          "name": "stdout",
          "text": [
            "6.5\n"
          ]
        }
      ]
    },
    {
      "cell_type": "code",
      "source": [
        "my_list = [1,1,1,1,2,2,3,3,3,3,4,5]\n",
        "\n",
        "unique_elements = list(set(my_list))\n",
        "\n",
        "print(unique_elements)"
      ],
      "metadata": {
        "colab": {
          "base_uri": "https://localhost:8080/"
        },
        "id": "FX01jkzqztp9",
        "outputId": "764b7a42-a80b-44d8-eede-0d3f916e52ac"
      },
      "execution_count": 1,
      "outputs": [
        {
          "output_type": "stream",
          "name": "stdout",
          "text": [
            "[1, 2, 3, 4, 5]\n"
          ]
        }
      ]
    },
    {
      "cell_type": "code",
      "source": [
        "L1=['view.jpg','bear,jpg','ball.png']\n",
        "\n",
        "L1.insert(0,'phone.jpg')\n",
        "\n",
        "print(L1)\n",
        "\n",
        "L1.pop(3)\n",
        "\n",
        "print(type(L1))\n",
        "\n",
        "print(L1)"
      ],
      "metadata": {
        "colab": {
          "base_uri": "https://localhost:8080/"
        },
        "id": "228wfbbDFxyn",
        "outputId": "4a2985f5-21a9-4199-c720-5f89514b1f21"
      },
      "execution_count": 2,
      "outputs": [
        {
          "output_type": "stream",
          "name": "stdout",
          "text": [
            "['phone.jpg', 'view.jpg', 'bear,jpg', 'ball.png']\n",
            "<class 'list'>\n",
            "['phone.jpg', 'view.jpg', 'bear,jpg']\n"
          ]
        }
      ]
    },
    {
      "cell_type": "code",
      "source": [
        "L=[1,2,3,4,5,6,7,8,9,10]\n",
        "min,max=1,0\n",
        "for e in L:\n",
        "    if e>max:\n",
        "        max=e\n",
        "        s = sum(L)\n",
        "        length = len(L)\n",
        "        Avg=s/length\n",
        "    if e<min:\n",
        "        min=e\n",
        "print(max)\n",
        "print(Avg)\n",
        "print(min)"
      ],
      "metadata": {
        "colab": {
          "base_uri": "https://localhost:8080/"
        },
        "id": "c48Tmq2xGHbu",
        "outputId": "0b4463d9-881f-486c-ea4a-5918278b2d4d"
      },
      "execution_count": null,
      "outputs": [
        {
          "output_type": "stream",
          "name": "stdout",
          "text": [
            "10\n",
            "5.5\n",
            "1\n"
          ]
        }
      ]
    },
    {
      "cell_type": "code",
      "source": [
        "l = [1, 2, 3, 4, [4, 3]]\n",
        "number = 6\n",
        "\n",
        "for element in l:\n",
        "    if isinstance(element, list):\n",
        "        if number in element:\n",
        "            print(f\"The number {number} exists in the inner list.\")\n",
        "            break\n",
        "    elif element == number:\n",
        "        print(f\"The number {number} exists in the main list.\")\n",
        "        break\n",
        "else:\n",
        "    print(f\"The number {number} does not exist in the list.\")"
      ],
      "metadata": {
        "colab": {
          "base_uri": "https://localhost:8080/"
        },
        "id": "pDIxkC0Sz1Y6",
        "outputId": "5d8631d8-9c15-48ea-e921-b1232f35a7d0"
      },
      "execution_count": null,
      "outputs": [
        {
          "output_type": "stream",
          "name": "stdout",
          "text": [
            "The number 6 does not exist in the list.\n"
          ]
        }
      ]
    },
    {
      "cell_type": "code",
      "source": [
        "def sum_list(numbers):\n",
        "\n",
        "  total=sum(numbers)\n",
        "\n",
        "  return total\n",
        "\n",
        "sample_list=[8,2,3,0,7]\n",
        "\n",
        "result=sum_list(sample_list)\n",
        "\n",
        "print(result)"
      ],
      "metadata": {
        "colab": {
          "base_uri": "https://localhost:8080/"
        },
        "id": "Dr0R_ZhawrOZ",
        "outputId": "3d53e451-e222-4612-f384-67fae5bb399a"
      },
      "execution_count": null,
      "outputs": [
        {
          "output_type": "stream",
          "name": "stdout",
          "text": [
            "20\n"
          ]
        }
      ]
    },
    {
      "cell_type": "code",
      "source": [
        "def reverse_string(string):\n",
        "\n",
        "  reversed_string=string[::-1]\n",
        "\n",
        "  return reversed_string\n",
        "\n",
        "input_string=input(\"Enter a string: \")\n",
        "\n",
        "#input_String=\"1234abcd\"\n",
        "\n",
        "reversed_string=reverse_string(input_string)\n",
        "\n",
        "print(\"Reversed string::\",reversed_string)"
      ],
      "metadata": {
        "colab": {
          "base_uri": "https://localhost:8080/"
        },
        "id": "fe0fUA1wwrfa",
        "outputId": "d9fa3b1c-2398-42fc-b447-5ca82ef775a6"
      },
      "execution_count": null,
      "outputs": [
        {
          "output_type": "stream",
          "name": "stdout",
          "text": [
            "Enter a string: 1234abcd\n",
            "Reversed string:: dcba4321\n"
          ]
        }
      ]
    },
    {
      "cell_type": "code",
      "source": [
        "def count_upper_lower(string):\n",
        "\n",
        "  upper_count=0\n",
        "\n",
        "  lower_count=0\n",
        "\n",
        "\n",
        "\n",
        "  for char in string:\n",
        "\n",
        "    if char.isupper():\n",
        "\n",
        "      upper_count +=1\n",
        "\n",
        "    elif char.islower():\n",
        "\n",
        "      lower_count +=1\n",
        "\n",
        "  return upper_count,lower_count\n",
        "\n",
        "text=input(\"Enter string to check:: \")\n",
        "\n",
        "upper,lower=count_upper_lower(text)\n",
        "\n",
        "print(\"Uppercase count::\",upper)\n",
        "\n",
        "print(\"lowercase count::\",lower)"
      ],
      "metadata": {
        "colab": {
          "base_uri": "https://localhost:8080/"
        },
        "id": "VCLVXoG2xtK8",
        "outputId": "acc483d8-932d-44f7-d99e-702ba89ec844"
      },
      "execution_count": null,
      "outputs": [
        {
          "output_type": "stream",
          "name": "stdout",
          "text": [
            "Enter string to check:: The quick Brow Fox\n",
            "Uppercase count:: 3\n",
            "lowercase count:: 12\n"
          ]
        }
      ]
    }
  ]
}