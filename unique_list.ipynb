{
  "nbformat": 4,
  "nbformat_minor": 0,
  "metadata": {
    "colab": {
      "provenance": [],
      "authorship_tag": "ABX9TyPZd/3ZcGg5GyqV8VvNyCQY",
      "include_colab_link": true
    },
    "kernelspec": {
      "name": "python3",
      "display_name": "Python 3"
    },
    "language_info": {
      "name": "python"
    }
  },
  "cells": [
    {
      "cell_type": "markdown",
      "metadata": {
        "id": "view-in-github",
        "colab_type": "text"
      },
      "source": [
        "<a href=\"https://colab.research.google.com/github/Arulprakashg/Arulprakashg/blob/main/unique_list.ipynb\" target=\"_parent\"><img src=\"https://colab.research.google.com/assets/colab-badge.svg\" alt=\"Open In Colab\"/></a>"
      ]
    },
    {
      "cell_type": "code",
      "execution_count": null,
      "metadata": {
        "id": "fYLVHBhJ1IyU"
      },
      "outputs": [],
      "source": [
        "my_list = [1,1,1,1,2,2,3,3,3,3,4,5]\n",
        "\n",
        "unique_elements = list(set(my_list))\n",
        "\n",
        "print(unique_elements)"
      ]
    }
  ]
}