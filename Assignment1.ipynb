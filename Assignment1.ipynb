{
  "nbformat": 4,
  "nbformat_minor": 0,
  "metadata": {
    "colab": {
      "provenance": [],
      "authorship_tag": "ABX9TyO0nNApM0jAaJOAO9tkxjui",
      "include_colab_link": true
    },
    "kernelspec": {
      "name": "python3",
      "display_name": "Python 3"
    },
    "language_info": {
      "name": "python"
    }
  },
  "cells": [
    {
      "cell_type": "markdown",
      "metadata": {
        "id": "view-in-github",
        "colab_type": "text"
      },
      "source": [
        "<a href=\"https://colab.research.google.com/github/Arulprakashg/Arulprakashg/blob/main/Assignment1.ipynb\" target=\"_parent\"><img src=\"https://colab.research.google.com/assets/colab-badge.svg\" alt=\"Open In Colab\"/></a>"
      ]
    },
    {
      "cell_type": "code",
      "execution_count": 2,
      "metadata": {
        "id": "xgtRw1dZILR3",
        "outputId": "2bd31f0f-0a9a-47d7-c97d-3c941d782c04",
        "colab": {
          "base_uri": "https://localhost:8080/"
        }
      },
      "outputs": [
        {
          "output_type": "stream",
          "name": "stdout",
          "text": [
            "Enter an integer:6\n",
            "1\n",
            "2\n",
            "fizz\n",
            "4\n",
            "fuzz\n",
            "fizz\n"
          ]
        }
      ],
      "source": [
        "number = int(input(\"Enter an integer:\"))\n",
        "for i in range(1,number+1):\n",
        "    if i%3 ==0 and i%5==0:\n",
        "      print(\"fizz fuzz\")\n",
        "    elif i%3==0:\n",
        "      print(\"fizz\")\n",
        "    elif i%5==0:\n",
        "      print(\"fuzz\")\n",
        "    else:\n",
        "      print(i)\n"
      ]
    }
  ]
}