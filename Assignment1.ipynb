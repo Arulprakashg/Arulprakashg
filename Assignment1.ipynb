{
  "nbformat": 4,
  "nbformat_minor": 0,
  "metadata": {
    "colab": {
      "provenance": [],
      "authorship_tag": "ABX9TyOaBEcGEZsWxOWnO2Gjlmi4",
      "include_colab_link": true
    },
    "kernelspec": {
      "name": "python3",
      "display_name": "Python 3"
    },
    "language_info": {
      "name": "python"
    }
  },
  "cells": [
    {
      "cell_type": "markdown",
      "metadata": {
        "id": "view-in-github",
        "colab_type": "text"
      },
      "source": [
        "<a href=\"https://colab.research.google.com/github/Arulprakashg/Arulprakashg/blob/main/Assignment1.ipynb\" target=\"_parent\"><img src=\"https://colab.research.google.com/assets/colab-badge.svg\" alt=\"Open In Colab\"/></a>"
      ]
    },
    {
      "cell_type": "code",
      "execution_count": 2,
      "metadata": {
        "colab": {
          "base_uri": "https://localhost:8080/"
        },
        "id": "xgtRw1dZILR3",
        "outputId": "2bd31f0f-0a9a-47d7-c97d-3c941d782c04"
      },
      "outputs": [
        {
          "output_type": "stream",
          "name": "stdout",
          "text": [
            "Enter an integer:6\n",
            "1\n",
            "2\n",
            "fizz\n",
            "4\n",
            "fuzz\n",
            "fizz\n"
          ]
        }
      ],
      "source": [
        "number = int(input(\"Enter an integer:\"))\n",
        "for i in range(1,number+1):\n",
        "    if i%3 ==0 and i%5==0:\n",
        "      print(\"fizz fuzz\")\n",
        "    elif i%3==0:\n",
        "      print(\"fizz\")\n",
        "    elif i%5==0:\n",
        "      print(\"fuzz\")\n",
        "    else:\n",
        "      print(i)\n"
      ]
    },
    {
      "cell_type": "code",
      "source": [
        "def calculate_net_amount(log_message):\n",
        "    # Initialize the net amount to zero\n",
        "    net_amount = 0\n",
        "\n",
        "    # Split the log message into individual transactions\n",
        "    transactions = log_message.split()\n",
        "\n",
        "    # Process each transaction\n",
        "    for transaction in transactions:\n",
        "        # Check if the transaction is a deposit\n",
        "        if transaction[0] == 'D':\n",
        "            # Extract the deposit amount and add it to the net amount\n",
        "            deposit = int(transaction[2:])\n",
        "            net_amount += deposit\n",
        "        # Check if the transaction is a withdrawal\n",
        "        elif transaction[0] == 'W':\n",
        "            # Extract the withdrawal amount and subtract it from the net amount\n",
        "            withdrawal = int(transaction[2:])\n",
        "            net_amount -= withdrawal\n",
        "\n",
        "    # Return the final net amount\n",
        "    return net_amount\n",
        "\n",
        "# Test the function with sample inputs\n",
        "print(calculate_net_amount(\"D:100 w:100\"))  # Expected output: 90\n",
        "print(calculate_net_amount(\"D:100 W:200 D:400\"))  # Expected output: 300"
      ],
      "metadata": {
        "colab": {
          "base_uri": "https://localhost:8080/"
        },
        "id": "rP5PDDFZI6CA",
        "outputId": "3c21f013-40ba-4f0f-bdd1-29d5d2af99a0"
      },
      "execution_count": 3,
      "outputs": [
        {
          "output_type": "stream",
          "name": "stdout",
          "text": [
            "100\n",
            "300\n"
          ]
        }
      ]
    },
    {
      "cell_type": "code",
      "source": [
        "calls = int(input(\"Enter the number of calls: \"))\n",
        "\n",
        "if calls <= 100:\n",
        "    bill = 200\n",
        "elif calls <= 150:\n",
        "    bill = 200 + 0.6*(calls-100)\n",
        "elif calls <= 200:\n",
        "    bill = 200 + 0.6*50 + 0.5*(calls-150)\n",
        "else:\n",
        "    bill = 200 + 0.6*50 + 0.5*50 + 0.4*(calls-200)\n",
        "\n",
        "print(\"The monthly telephone bill is: Rs.\", bill)"
      ],
      "metadata": {
        "id": "_GuQyZGYJKFJ",
        "outputId": "f438e73b-ef57-4aa6-c367-675ba797278b",
        "colab": {
          "base_uri": "https://localhost:8080/"
        }
      },
      "execution_count": 4,
      "outputs": [
        {
          "output_type": "stream",
          "name": "stdout",
          "text": [
            "Enter the number of calls: 100\n",
            "The monthly telephone bill is: Rs. 200\n"
          ]
        }
      ]
    }
  ]
}