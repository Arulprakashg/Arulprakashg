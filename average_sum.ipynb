{
  "nbformat": 4,
  "nbformat_minor": 0,
  "metadata": {
    "colab": {
      "provenance": [],
      "authorship_tag": "ABX9TyMOe7hdFH7xDbbPsT3ZrR+n",
      "include_colab_link": true
    },
    "kernelspec": {
      "name": "python3",
      "display_name": "Python 3"
    },
    "language_info": {
      "name": "python"
    }
  },
  "cells": [
    {
      "cell_type": "markdown",
      "metadata": {
        "id": "view-in-github",
        "colab_type": "text"
      },
      "source": [
        "<a href=\"https://colab.research.google.com/github/Arulprakashg/Arulprakashg/blob/main/average_sum.ipynb\" target=\"_parent\"><img src=\"https://colab.research.google.com/assets/colab-badge.svg\" alt=\"Open In Colab\"/></a>"
      ]
    },
    {
      "cell_type": "code",
      "execution_count": null,
      "metadata": {
        "id": "YYC-8W6H2Ne1"
      },
      "outputs": [],
      "source": [
        "l = [[1, 2, 3], [4, 5, 6, 3], [-1, -2, -10, 5, 8]]\n",
        "\n",
        "sum_of_averages = 0\n",
        "\n",
        "for sublist in l:\n",
        "    average = sum(sublist) / len(sublist)\n",
        "    sum_of_averages += average\n",
        "\n",
        "print(sum_of_averages)"
      ]
    }
  ]
}